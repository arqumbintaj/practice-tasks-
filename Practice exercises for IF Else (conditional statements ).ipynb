{
 "cells": [
  {
   "cell_type": "markdown",
   "metadata": {},
   "source": [
    "# Exercise # 1 :\n",
    "Take two int values from user and print greatest among them."
   ]
  },
  {
   "cell_type": "code",
   "execution_count": null,
   "metadata": {},
   "outputs": [],
   "source": [
    "a = input(\"Enter 1st number: \")\n",
    "b = input(\"Enter 2nd number: \")\n",
    "if int(a)> int(b):\n",
    "    print(a)\n",
    "else:\n",
    "    print(b)"
   ]
  },
  {
   "cell_type": "markdown",
   "metadata": {},
   "source": [
    "# Exercise # 2:\n",
    "Take input of age of 3 people by user and determine oldest and youngest among them."
   ]
  },
  {
   "cell_type": "code",
   "execution_count": null,
   "metadata": {},
   "outputs": [],
   "source": [
    "age_1 = input(\"Age of person 1: \")\n",
    "age_2 = input(\"Age of person 2: \")\n",
    "age_3 = input(\"Age of person 3: \")\n",
    "if int(age_1) > (int(age_2) and int(age_3)): \n",
    "    print (f\"person 1 is older {age_1} years old\")\n",
    "                                                                                                                       \n",
    "elif int(age_2) > (int(age_1) and int(age_3)):\n",
    "    print(f\"person 2 is older {age_2} years old \")\n",
    "    \n",
    "elif int(age_3) > (int(age_1) and int(age_2)):\n",
    "    print(f\"Person 3 is older {age_3} years old\")\n",
    "    \n",
    "if  int(age_1)  < (int(age_2) and int(age_3)):\n",
    "    print(f\"Person 1 is youngest {age_1} years old\")\n",
    "elif int(age_2) < (int(age_1) and int(age_3)):\n",
    "    print (f\"person 2 is youngest {age_2} years old\")\n",
    "elif int(age_3) < (int(age_1) and int(age_2)):\n",
    "    print (f\"person 3 is youngest {age_3} years old\")\n",
    "else:\n",
    "    print(f\"All Have same in age {age_1} years old\")"
   ]
  },
  {
   "cell_type": "markdown",
   "metadata": {},
   "source": [
    "# Exercise # 3:\n",
    "Take values of length and breadth of a rectangle from user and check if it is square or not."
   ]
  },
  {
   "cell_type": "code",
   "execution_count": null,
   "metadata": {},
   "outputs": [],
   "source": [
    "L = input(\"Enter length: \")\n",
    "B = input (\"Enter Breadth: \")\n",
    "if L == B: \n",
    "    print(\"This is a square\")\n",
    "else:\n",
    "    print(\"This is not a square\")"
   ]
  },
  {
   "cell_type": "markdown",
   "metadata": {},
   "source": [
    "# Exercise # 4:\n",
    "A shop will give discount of 10% if the cost of purchased quantity is more than 1000.\n",
    "Ask user for quantity\n",
    "Suppose, one unit will cost 100.\n",
    "Judge and print total cost for user.\n"
   ]
  },
  {
   "cell_type": "code",
   "execution_count": null,
   "metadata": {},
   "outputs": [],
   "source": [
    "Q = input(\"Enter quantity: \")\n",
    "Cost = input (\"Enter cost for each: \")\n",
    "total = int(Q) * int(Cost)\n",
    "if total > 1000:\n",
    "    discount = total - (total * 0.1) \n",
    "    print(f\"Total after 10 % discount is {discount}\")\n",
    "else: \n",
    "    print(f\"Total amount is {total}\")\n"
   ]
  },
  {
   "cell_type": "markdown",
   "metadata": {},
   "source": [
    "# Exercise # 5:\n",
    "A company decided to give bonus of 5% to employee if his/her year of service is more than 5 years.\n",
    "Ask user for their salary and year of service and print the net bonus amount.\n"
   ]
  },
  {
   "cell_type": "code",
   "execution_count": null,
   "metadata": {},
   "outputs": [],
   "source": [
    "service = int(input(\"Enter years of service: \"))\n",
    "salary = int(input(\"Enter your salary: \"))\n",
    "if service > 5:\n",
    "    Bonus = (salary * 0.05)\n",
    "    print(f\"Congratulations you got 5 % Bonus, your bonus is: {Bonus}\")\n",
    "else: \n",
    "    print(f\"sorry you are not eligible for bonus\")\n"
   ]
  },
  {
   "cell_type": "markdown",
   "metadata": {},
   "source": [
    "# Exercise # 6:\n",
    "A school has following rules for grading system:\n",
    "\n",
    "a. Below 25 - F\n",
    "\n",
    "b. 25 to 45 - E\n",
    "\n",
    "c. 45 to 50 - D\n",
    "\n",
    "d. 50 to 60 - C\n",
    "\n",
    "e. 60 to 80 - B\n",
    "\n",
    "f. Above 80 - A\n",
    "\n",
    "Ask user to enter marks and print the corresponding grade."
   ]
  },
  {
   "cell_type": "code",
   "execution_count": 10,
   "metadata": {},
   "outputs": [
    {
     "name": "stdout",
     "output_type": "stream",
     "text": [
      "Enter marks: 44\n",
      "your grade is E with 44 marks\n"
     ]
    }
   ],
   "source": [
    "marks = int(input(\"Enter marks: \"))\n",
    "if marks > 80:\n",
    "    print(f\"your grade is A with {marks} marks\")\n",
    "elif marks >= 60 and marks <=80 :\n",
    "    print(f\"your grade is B with {marks} marks\")\n",
    "elif marks >= 50 and marks < 60:\n",
    "    print(f\"your grade is C with {marks} marks\")\n",
    "elif marks >= 45 and marks < 50:\n",
    "    print(f\"your grade is D with {marks} marks\")\n",
    "elif marks >= 25 and marks < 45:\n",
    "    print(f\"your grade is E with {marks} marks\")\n",
    "elif marks < 25:\n",
    "    print(f\"your grade is F with {marks} marks\")"
   ]
  },
  {
   "cell_type": "markdown",
   "metadata": {},
   "source": [
    "# Exercise # 7:\n",
    "Write a program to print absolute vlaue of a number entered by user.\n",
    "\n",
    "E.g.-\n",
    "\n",
    "INPUT: 1    =>>>>    OUTPUT: 1\n",
    "\n",
    "INPUT: -1   =>>>>     OUTPUT: 1\n"
   ]
  },
  {
   "cell_type": "code",
   "execution_count": null,
   "metadata": {},
   "outputs": [],
   "source": [
    "num = int(input(\"Enter a number: \"))\n",
    "abs_num = abs(num)\n",
    "print(f\"Absoulte number is {abs_num}\")"
   ]
  },
  {
   "cell_type": "markdown",
   "metadata": {},
   "source": [
    "# Exercise # 8:\n",
    "A student will not be allowed to sit in exam if his/her attendence is less than 75%.\n",
    "Take following input from user\n",
    "Number of classes held\n",
    "Number of classes attended.\n",
    "And print\n",
    "percentage of class attended\n",
    "Is student is allowed to sit in exam or not."
   ]
  },
  {
   "cell_type": "code",
   "execution_count": null,
   "metadata": {},
   "outputs": [],
   "source": [
    "cls = int(input(\"Enter total No of classes:\"))\n",
    "att = int(input(\"Enter number of attended classes:\"))\n",
    "percentage = (att / cls) * 100 \n",
    "if percentage >= 75:\n",
    "    print(\"Congrats you are allowed to sit in exam\")\n",
    "else: \n",
    "    print(\"you are not allowed to sit in exam\")"
   ]
  },
  {
   "cell_type": "markdown",
   "metadata": {},
   "source": [
    "# Exercise # 9:\n",
    "Modify the above question to allow student to sit if he/she has medical cause. Ask user if he/she has medical cause or not ( 'Y' or 'N' ) and print accordingly."
   ]
  },
  {
   "cell_type": "code",
   "execution_count": null,
   "metadata": {},
   "outputs": [],
   "source": [
    "cls = int(input(\"Enter total No of classes:\"))\n",
    "att = int(input(\"Enter number of attended classes:\"))\n",
    "cus = str(input(\"Enter Y/N if any medical cause: \"))\n",
    "percentage = (att / cls) * 100 \n",
    "if percentage >= 75 and cus ==\"n\":\n",
    "    print(\"Congrats you are allowed to sit in exam\")\n",
    "elif percentage < 75 and cus == \"y\":\n",
    "    print(\"you are advice to contact examination dept\")\n",
    "else: \n",
    "     print(\"you are not allowed to sit in exam\")\n",
    "    "
   ]
  },
  {
   "cell_type": "code",
   "execution_count": null,
   "metadata": {},
   "outputs": [],
   "source": []
  },
  {
   "cell_type": "code",
   "execution_count": null,
   "metadata": {},
   "outputs": [],
   "source": []
  },
  {
   "cell_type": "code",
   "execution_count": null,
   "metadata": {},
   "outputs": [],
   "source": []
  }
 ],
 "metadata": {
  "kernelspec": {
   "display_name": "Python 3",
   "language": "python",
   "name": "python3"
  },
  "language_info": {
   "codemirror_mode": {
    "name": "ipython",
    "version": 3
   },
   "file_extension": ".py",
   "mimetype": "text/x-python",
   "name": "python",
   "nbconvert_exporter": "python",
   "pygments_lexer": "ipython3",
   "version": "3.7.4"
  }
 },
 "nbformat": 4,
 "nbformat_minor": 4
}
